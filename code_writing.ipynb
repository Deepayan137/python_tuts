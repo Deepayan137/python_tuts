{
 "cells": [
  {
   "cell_type": "markdown",
   "metadata": {},
   "source": [
    "# Few coding conventions\n",
    "\n",
    "> “Any fool can write code that a computer can understand. Good programmers write code that humans can understand.”\n",
    "> -- Martin Fowler"
   ]
  },
  {
   "cell_type": "markdown",
   "metadata": {},
   "source": [
    "## Python Docstrings"
   ]
  },
  {
   "cell_type": "markdown",
   "metadata": {},
   "source": [
    "### What is a Docstring ?\n",
    "\n",
    "A docstring is a string literal that occurs as the first statement in a module, function, class, or method definition. Such a docstring becomes the __doc__ special attribute of that object.\n",
    "\n",
    "Simply put it, helps with the overall readability and tell what a specific module does."
   ]
  },
  {
   "cell_type": "code",
   "execution_count": 6,
   "metadata": {},
   "outputs": [
    {
     "name": "stdout",
     "output_type": "stream",
     "text": [
      "Do nothing, but document it.\n"
     ]
    }
   ],
   "source": [
    "def my_function():\n",
    "    \"\"\"Do nothing, but document it.\"\"\"\n",
    "    pass\n",
    "\n",
    "print (my_function.__doc__)"
   ]
  },
  {
   "cell_type": "raw",
   "metadata": {},
   "source": [
    "\"\"\"\n",
    "Assuming this is file mymodule.py, then this string, being the\n",
    "first statement in the file, will become the \"mymodule\" module's\n",
    "docstring when the file is imported.\n",
    "\"\"\"\n",
    " \n",
    "class MyClass(object):\n",
    "    \"\"\"The class's docstring\"\"\"\n",
    " \n",
    "    def my_method(self):\n",
    "        \"\"\"The method's docstring\"\"\"\n",
    " \n",
    "    def my_function():\n",
    "        \"\"\"The function's docstring\"\"\"\n",
    "\n",
    "import mymodule\n",
    "help(mymodule)\n",
    "\n",
    "output:\n",
    "Assuming this is file mymodule.py then this string, being the first statement in \n",
    "the file will become the mymodule modules docstring when the file is imported.\t\n",
    "\n",
    "help(mymodule.MyClass.my_method)\n",
    "\n",
    "output:\n",
    "The method's docstring\n"
   ]
  },
  {
   "cell_type": "code",
   "execution_count": null,
   "metadata": {},
   "outputs": [],
   "source": [
    "def foo_bar(arg2, arg2):\n",
    "    \"\"\" summary of module.\n",
    "\n",
    "    Attributes::\n",
    "        arg1: what is arg1\n",
    "        arg2: what is arg2\n",
    "    \n",
    "    Returns:\n",
    "        var: what does the module return\n",
    "    \"\"\"\n",
    "    \n",
    "    #some lines\n",
    "    return var\n"
   ]
  },
  {
   "cell_type": "markdown",
   "metadata": {},
   "source": [
    "For more on how ro write docstrings follow pep 257"
   ]
  },
  {
   "cell_type": "markdown",
   "metadata": {},
   "source": [
    "## Commments\n",
    "\n",
    "Use them sparingly. Prefer code readability to writing a lot of comments. Often, small methods are more effective than comments.\n",
    "\n"
   ]
  },
  {
   "cell_type": "code",
   "execution_count": null,
   "metadata": {},
   "outputs": [],
   "source": [
    "# If the sign is a stop sign\n",
    "if sign.color == 'red' and sign.sides == 8:\n",
    "    stop()"
   ]
  },
  {
   "cell_type": "code",
   "execution_count": null,
   "metadata": {},
   "outputs": [],
   "source": [
    "def is_stop_sign(sign):\n",
    "    return sign.color == 'red' and sign.sides == 8\n",
    "\n",
    "if is_stop_sign(sign):\n",
    "    stop()"
   ]
  },
  {
   "cell_type": "markdown",
   "metadata": {},
   "source": [
    "## Miscellaneous\n",
    "\n",
    "- Variables, functions, methods, packages, modules\n",
    "    - `lower_case_with_underscores`\n",
    "- Classes and Exceptions\n",
    "    - `CapWords`\n",
    "    \n",
    "Avoid one-letter variables (esp. `l`, `O`, `I`). \n"
   ]
  },
  {
   "cell_type": "markdown",
   "metadata": {},
   "source": [
    "#### Indentation\n",
    "\n",
    "Use 4 spaces--never tabs. Enough said.\n"
   ]
  },
  {
   "cell_type": "markdown",
   "metadata": {},
   "source": [
    "#### Imports\n",
    "\n",
    "- Imports should usually be on separate lines, e.g.:\n",
    "\n",
    "Imports should be grouped in the following order:\n",
    "\n",
    "1. standard library imports\n",
    "2. related third party imports\n",
    "3. local application/library specific imports\n",
    "\n",
    "You should put a blank line between each group of imports."
   ]
  },
  {
   "cell_type": "markdown",
   "metadata": {},
   "source": [
    "#### spacing\n",
    "\n",
    "Yes:\n",
    "\n",
    "    i = i + 1\n",
    "    submitted += 1\n",
    "    x = x*2 - 1\n",
    "    hypot2 = x*x + y*y\n",
    "    c = (a+b) * (a-b)\n",
    "No:\n",
    "\n",
    "    i=i+1\n",
    "    submitted +=1\n",
    "    x = x * 2 - 1\n",
    "    hypot2 = x * x + y * y\n",
    "    c = (a + b) * (a - b)\n"
   ]
  },
  {
   "cell_type": "markdown",
   "metadata": {},
   "source": [
    "## References\n",
    "\n",
    "- [PEP 20 (The Zen of Python)][PEP 20]\n",
    "- [PEP 8 (Style Guide for Python)][PEP 8]"
   ]
  },
  {
   "cell_type": "code",
   "execution_count": null,
   "metadata": {},
   "outputs": [],
   "source": []
  }
 ],
 "metadata": {
  "kernelspec": {
   "display_name": "Python 3",
   "language": "python",
   "name": "python3"
  },
  "language_info": {
   "codemirror_mode": {
    "name": "ipython",
    "version": 3
   },
   "file_extension": ".py",
   "mimetype": "text/x-python",
   "name": "python",
   "nbconvert_exporter": "python",
   "pygments_lexer": "ipython3",
   "version": "3.6.1"
  }
 },
 "nbformat": 4,
 "nbformat_minor": 2
}
