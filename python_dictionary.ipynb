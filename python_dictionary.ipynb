{
 "cells": [
  {
   "cell_type": "markdown",
   "metadata": {},
   "source": [
    "# Chapter 2: Dictionary"
   ]
  },
  {
   "cell_type": "code",
   "execution_count": 2,
   "metadata": {
    "collapsed": false
   },
   "outputs": [
    {
     "name": "stdout",
     "output_type": "stream",
     "text": [
      "dict_keys(['Page', 'Plant', 'Bonham', 'Jones'])\n",
      "dict_values(['guitar', 'Vocals', 'Drums', 'Bass'])\n",
      "dict_items([('Page', 'guitar'), ('Plant', 'Vocals'), ('Bonham', 'Drums'), ('Jones', 'Bass')])\n"
     ]
    }
   ],
   "source": [
    "my_dict = {'Page':'guitar', 'Plant':'Vocals', 'Bonham':'Drums', 'Jones':'Bass'}\n",
    "print (my_dict.keys())\n",
    "print(my_dict.values())\n",
    "print(my_dict.items())"
   ]
  },
  {
   "cell_type": "markdown",
   "metadata": {},
   "source": [
    "**Note: **The values returned by these methods are not true lists: They cannot be modified and do not have an append() method. But these data types (dict_keys, dict_values, and dict_items, respectively) can be used in for loops. "
   ]
  },
  {
   "cell_type": "code",
   "execution_count": 14,
   "metadata": {
    "collapsed": false
   },
   "outputs": [
    {
     "name": "stdout",
     "output_type": "stream",
     "text": [
      "['Page', 'Plant', 'Bonham', 'Jones']\n",
      "[('Page', 'guitar'), ('Plant', 'Vocals'), ('Bonham', 'Drums'), ('Jones', 'Bass')]\n"
     ]
    }
   ],
   "source": [
    "keys = [key for key in my_dict.keys()]\n",
    "print(keys)\n",
    "items= [item for item in my_dict.items()]\n",
    "print(items)"
   ]
  },
  {
   "cell_type": "markdown",
   "metadata": {
    "collapsed": false
   },
   "source": [
    "Alternatively if you want true list form you can use list() method"
   ]
  },
  {
   "cell_type": "code",
   "execution_count": 14,
   "metadata": {
    "collapsed": false
   },
   "outputs": [
    {
     "name": "stdout",
     "output_type": "stream",
     "text": [
      "['Page', 'Plant', 'Bonham', 'Jones']\n"
     ]
    }
   ],
   "source": [
    "print(list(my_dict.keys()))"
   ]
  },
  {
   "cell_type": "markdown",
   "metadata": {},
   "source": [
    "Check if a particular key is present in dictionary"
   ]
  },
  {
   "cell_type": "code",
   "execution_count": 15,
   "metadata": {
    "collapsed": false
   },
   "outputs": [
    {
     "name": "stdout",
     "output_type": "stream",
     "text": [
      "False\n"
     ]
    }
   ],
   "source": [
    "print('lenon' in my_dict)"
   ]
  },
  {
   "cell_type": "markdown",
   "metadata": {},
   "source": [
    "or"
   ]
  },
  {
   "cell_type": "code",
   "execution_count": 16,
   "metadata": {
    "collapsed": false
   },
   "outputs": [
    {
     "name": "stdout",
     "output_type": "stream",
     "text": [
      "True\n"
     ]
    }
   ],
   "source": [
    "print('Bonham' in my_dict.keys())"
   ]
  },
  {
   "cell_type": "markdown",
   "metadata": {},
   "source": [
    "Check for value present in dictionary"
   ]
  },
  {
   "cell_type": "code",
   "execution_count": 19,
   "metadata": {
    "collapsed": false
   },
   "outputs": [
    {
     "name": "stdout",
     "output_type": "stream",
     "text": [
      "True\n"
     ]
    }
   ],
   "source": [
    "print('guitar' in my_dict.values())"
   ]
  },
  {
   "cell_type": "markdown",
   "metadata": {},
   "source": [
    "**The get() Method**"
   ]
  },
  {
   "cell_type": "code",
   "execution_count": 20,
   "metadata": {
    "collapsed": false
   },
   "outputs": [
    {
     "name": "stdout",
     "output_type": "stream",
     "text": [
      "Led Zep ceased to exist after the geath of Bonzo \n"
     ]
    }
   ],
   "source": [
    "print(\"Led Zep ceased to exist after the death of %s \"%(my_dict.get('Lennon','Bonzo')))"
   ]
  },
  {
   "cell_type": "markdown",
   "metadata": {
    "collapsed": true
   },
   "source": [
    "**Reverse keys and values in a dictionary**\n"
   ]
  },
  {
   "cell_type": "code",
   "execution_count": 11,
   "metadata": {
    "collapsed": false
   },
   "outputs": [
    {
     "name": "stdout",
     "output_type": "stream",
     "text": [
      "{'guitar': 'Page', 'Vocals': 'Plant', 'Drums': 'Bonham', 'Bass': 'Jones'}\n"
     ]
    }
   ],
   "source": [
    "k, v = zip(*[item for item in my_dict.items()])\n",
    "rev_my_dict = dict(zip(v, k))\n",
    "print(rev_my_dict)"
   ]
  },
  {
   "cell_type": "markdown",
   "metadata": {},
   "source": [
    "**Nested dictionary**"
   ]
  },
  {
   "cell_type": "code",
   "execution_count": 23,
   "metadata": {
    "collapsed": false
   },
   "outputs": [
    {
     "name": "stdout",
     "output_type": "stream",
     "text": [
      "['lion', 'tiger', 'Bear']\n",
      "['Eagle', 'peacock', 'falcon']\n",
      "Invalid Query\n"
     ]
    }
   ],
   "source": [
    "mydict = {'Animals':\n",
    "          {'type':{'Mamals':{'carnivores':['lion', 'tiger','Bear'],\n",
    "                             'herbivores':['deer', 'horse', 'zebra']},\n",
    "                   'Birds':['Eagle', 'peacock', 'falcon']},\n",
    "                   'Amphibians':['frogs', 'crocodile']\n",
    "          }\n",
    "         }\n",
    "print(mydict['Animals']['type']['Mamals']['carnivores'])\n",
    "print(mydict['Animals']['type'].get('Birds','Invalid Query'))\n",
    "print(mydict['Animals']['type'].get('Fish','Invalid Query'))"
   ]
  },
  {
   "cell_type": "code",
   "execution_count": 28,
   "metadata": {
    "collapsed": false
   },
   "outputs": [
    {
     "name": "stdout",
     "output_type": "stream",
     "text": [
      "{'Animals': {'type': {'Mamals': {'carnivores': ['lion', 'tiger', 'Bear'], 'herbivores': ['deer', 'horse', 'zebra']}, 'Birds': ['Eagle', 'peacock', 'falcon'], 'Fishes': ['Goldfish', 'Piranha']}, 'Amphibians': ['frogs', 'crocodile']}}\n",
      "{'Animals': {'type': {'Mamals': {'carnivores': ['lion', 'tiger', 'Bear'], 'herbivores': ['deer', 'horse', 'zebra']}, 'Birds': ['Eagle', 'peacock', 'falcon'], 'Fishes': ['Goldfish', 'Piranha']}, 'Amphibians': ['frogs', 'crocodile']}, 'Cars': {'sports': ['BMW', 'Ferari', 'Audi'], 'Luxury': ['Bentely', 'Aston martin']}}\n"
     ]
    }
   ],
   "source": [
    "mydict['Animals']['type']['Fishes']=['Goldfish', 'Piranha']\n",
    "print(mydict)\n",
    "mydict['Cars'] = {'sports':['BMW', 'Ferari', 'Audi'],'Luxury':['Bentely', 'Aston martin']}\n",
    "print(mydict)"
   ]
  },
  {
   "cell_type": "code",
   "execution_count": 29,
   "metadata": {
    "collapsed": false
   },
   "outputs": [
    {
     "name": "stdout",
     "output_type": "stream",
     "text": [
      "['BMW', 'Ferari', 'Audi', 'Maserati']\n"
     ]
    }
   ],
   "source": [
    "mydict['Cars']['sports'].append('Maserati')\n",
    "print(mydict['Cars']['sports'])"
   ]
  },
  {
   "cell_type": "markdown",
   "metadata": {},
   "source": [
    "** args and kwargs **"
   ]
  },
  {
   "cell_type": "code",
   "execution_count": 45,
   "metadata": {
    "collapsed": false
   },
   "outputs": [
    {
     "name": "stdout",
     "output_type": "stream",
     "text": [
      "['Goldfish', 'Piranha']\n",
      "{'fishes': ['Goldfish', 'Piranha'], 'cars': ['BMW', 'Ferari', 'Audi', 'Maserati']}\n",
      "(['lion', 'tiger', 'Bear'], ['deer', 'horse', 'zebra'])\n",
      "lion\n",
      "tiger\n",
      "Bear\n",
      "deer\n",
      "horse\n",
      "zebra\n"
     ]
    }
   ],
   "source": [
    "def example(string, *args, **kwargs):\n",
    "    fishes = kwargs['fishes']\n",
    "    sports_cars = kwargs['cars']\n",
    "    print (string)\n",
    "    print(fishes)\n",
    "    print(kwargs)\n",
    "    print(args)\n",
    "    for items in args:\n",
    "        for item in items:\n",
    "            print(item)\n",
    "example(\"Example for Args and kwargs\", mydict['Animals']['type']['Mamals']['carnivores'],\n",
    "        mydict['Animals']['type']['Mamals']['herbivores']\n",
    "        ,fishes = mydict['Animals']['type']['Fishes'], cars = mydict['Cars']['sports'])\n"
   ]
  },
  {
   "cell_type": "code",
   "execution_count": null,
   "metadata": {
    "collapsed": true
   },
   "outputs": [],
   "source": []
  }
 ],
 "metadata": {
  "kernelspec": {
   "display_name": "Python 3",
   "language": "python",
   "name": "python3"
  },
  "language_info": {
   "codemirror_mode": {
    "name": "ipython",
    "version": 3
   },
   "file_extension": ".py",
   "mimetype": "text/x-python",
   "name": "python",
   "nbconvert_exporter": "python",
   "pygments_lexer": "ipython3",
   "version": "3.6.0"
  }
 },
 "nbformat": 4,
 "nbformat_minor": 2
}
